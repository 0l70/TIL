{
 "cells": [
  {
   "cell_type": "markdown",
   "id": "fd66ce12",
   "metadata": {},
   "source": [
    "# Data Structure 02"
   ]
  },
  {
   "cell_type": "markdown",
   "id": "c2821d0c",
   "metadata": {},
   "source": [
    "## 비시퀀스 데이터 구조\n",
    "\n",
    "### 딕셔너리(Dictionary) - **좀 외워두자**\n",
    "- key와 value를 짝지어 저장하는 자료구조\n"
   ]
  },
  {
   "cell_type": "markdown",
   "id": "88bea20b",
   "metadata": {},
   "source": [
    "### .get(key[,default])\n",
    "- 키 연결된 값을 반환하거나 키가 없으면 None 혹은 기본 값을 반환"
   ]
  },
  {
   "cell_type": "code",
   "execution_count": 1,
   "id": "b0f7ab57",
   "metadata": {},
   "outputs": [
    {
     "name": "stdout",
     "output_type": "stream",
     "text": [
      "Alice\n",
      "None\n",
      "해당 값은 존재하지 않습니다.\n"
     ]
    }
   ],
   "source": [
    "# get\n",
    "person = {'name': 'Alice', 'age': 25}\n",
    "print(person.get('name'))\n",
    "print(person.get('country'))\n",
    "print(person.get('country', '해당 값은 존재하지 않습니다.'))\n",
    "# print(person['country'])  # KeyError: 'country'"
   ]
  },
  {
   "cell_type": "markdown",
   "id": "c6129947",
   "metadata": {},
   "source": [
    "### .keys()\n",
    "- 딕셔너리 키를 모은 객체를 반환\n",
    "- dict_keys(['name','age'])\n",
    "    - 실시간으로 동기화 되는 확인 창(view)"
   ]
  },
  {
   "cell_type": "code",
   "execution_count": 4,
   "id": "18ce9180",
   "metadata": {},
   "outputs": [
    {
     "name": "stdout",
     "output_type": "stream",
     "text": [
      "dict_keys(['name', 'age'])\n",
      "name\n",
      "age\n"
     ]
    }
   ],
   "source": [
    "# keys\n",
    "person = {'name': 'Alice', 'age': 25}\n",
    "print(person.keys())  # dict_keys(['name', 'age'])\n",
    "for item in person.keys():\n",
    "    print(item)\n",
    "# \"\"\"\n",
    "# name\n",
    "# age\n",
    "# \"\"\""
   ]
  },
  {
   "cell_type": "markdown",
   "id": "130dd4d9",
   "metadata": {},
   "source": [
    "### .values()\n",
    "- 딕셔너리 값을 모은 객체를 반환"
   ]
  },
  {
   "cell_type": "code",
   "execution_count": 5,
   "id": "74e0a624",
   "metadata": {},
   "outputs": [
    {
     "name": "stdout",
     "output_type": "stream",
     "text": [
      "dict_values(['Alice', 25])\n",
      "Alice\n",
      "25\n"
     ]
    }
   ],
   "source": [
    "# values\n",
    "person = {'name': 'Alice', 'age': 25}\n",
    "print(person.values())  # dict_values(['Alice', 25])\n",
    "for item in person.values():\n",
    "    print(item)\n",
    "# \"\"\"\n",
    "# Alice\n",
    "# 25\n",
    "# \"\"\""
   ]
  },
  {
   "cell_type": "markdown",
   "id": "532df7e3",
   "metadata": {},
   "source": [
    "### .items()\n",
    "- 딕셔너리 키/값 쌍을 모은 객체를 반환\n",
    "- 리스트 안 튜플로 나옴"
   ]
  },
  {
   "cell_type": "code",
   "execution_count": 6,
   "id": "ccae5be5",
   "metadata": {},
   "outputs": [
    {
     "name": "stdout",
     "output_type": "stream",
     "text": [
      "dict_items([('name', 'Alice'), ('age', 25)])\n"
     ]
    }
   ],
   "source": [
    "# items\n",
    "person = {'name': 'Alice', 'age': 25}\n",
    "print(person.items())  # dict_items([('name', 'Alice'), ('age', 25)])"
   ]
  },
  {
   "cell_type": "markdown",
   "id": "7f3304b0",
   "metadata": {},
   "source": [
    "### .pop(key[,default])\n",
    "- 키를 제거하고 연결됐던 값을 **반환** (없으면 에러나 default 반환)"
   ]
  },
  {
   "cell_type": "code",
   "execution_count": 7,
   "id": "388d64ef",
   "metadata": {},
   "outputs": [
    {
     "name": "stdout",
     "output_type": "stream",
     "text": [
      "25\n",
      "{'name': 'Alice'}\n",
      "None\n"
     ]
    }
   ],
   "source": [
    "# pop\n",
    "person = {'name': 'Alice', 'age': 25}\n",
    "print(person.pop('age'))  # 25\n",
    "print(person)  # {'name': 'Alice'}\n",
    "print(person.pop('country', None))  # None\n",
    "# print(person.pop('country'))  # KeyError: 'country'"
   ]
  },
  {
   "cell_type": "markdown",
   "id": "d220383f",
   "metadata": {},
   "source": [
    "### .clear()\n",
    "- 딕셔너리의 모든 키/값 쌍을 제거"
   ]
  },
  {
   "cell_type": "code",
   "execution_count": 8,
   "id": "c9e840cf",
   "metadata": {},
   "outputs": [
    {
     "name": "stdout",
     "output_type": "stream",
     "text": [
      "{}\n"
     ]
    }
   ],
   "source": [
    "# clear\n",
    "person = {'name': 'Alice', 'age': 25}\n",
    "person.clear()\n",
    "print(person)"
   ]
  },
  {
   "cell_type": "markdown",
   "id": "7be4bc40",
   "metadata": {},
   "source": [
    "### .setdefault(key[,default])\n",
    "- 키와 연결된 값을 반환 (.get()과 같음)\n",
    "- 키가 없다면 default와 연결한 키를 딕셔너리에 추가하고 default 반환"
   ]
  },
  {
   "cell_type": "code",
   "execution_count": 9,
   "id": "a4b05f59",
   "metadata": {},
   "outputs": [
    {
     "name": "stdout",
     "output_type": "stream",
     "text": [
      "KOREA\n",
      "{'name': 'Alice', 'age': 25, 'country': 'KOREA'}\n"
     ]
    }
   ],
   "source": [
    "# setdefault\n",
    "person = {'name': 'Alice', 'age': 25}\n",
    "print(person.setdefault('country', 'KOREA'))  # KOREA\n",
    "print(person)  # {'name': 'Alice', 'age': 25, 'country': 'KOREA'}"
   ]
  },
  {
   "cell_type": "markdown",
   "id": "a85c44a4",
   "metadata": {},
   "source": [
    "### .update(*[other]*)\n",
    "- other가 제공하는 키/값 쌍으로 딕셔너리를 갱신하고 기존 키는 덮어씀"
   ]
  },
  {
   "cell_type": "code",
   "execution_count": null,
   "id": "1b51f904",
   "metadata": {},
   "outputs": [
    {
     "name": "stdout",
     "output_type": "stream",
     "text": [
      "{'name': 'Jane', 'age': 25, 'country': 'KOREA'}\n",
      "{'name': 'Jane', 'age': 100, 'country': 'KOREA', 'address': 'SEOUL'}\n"
     ]
    }
   ],
   "source": [
    "# update\n",
    "person = {'name': 'Alice', 'age': 25}\n",
    "other_person = {'name': 'Jane', 'country': 'KOREA'} # 마지막 키 값이 들어감\n",
    "\n",
    "person.update(other_person)\n",
    "print(person)  # {'name': 'Jane', 'age': 25, 'country': 'KOREA'}\n",
    "\n",
    "person.update(age=100, address='SEOUL') # 변경 및 추가 가능\n",
    "print(person)  # {'name': 'Jane', 'age': 100, 'country': 'KOREA', 'address': 'SEOUL'}\n",
    "\n",
    "# 문자열 = 정수\n",
    "# update는 근본적으로 함수\n",
    "\n",
    "# 함수('문자열' = 정수)"
   ]
  },
  {
   "cell_type": "markdown",
   "id": "8ac80190",
   "metadata": {},
   "source": [
    "## 세트(set)\n",
    "- 고유한 항목(중복 x)들의 정렬되지 않은 컬렉션(순서가 없음)\n",
    "- 해시 테이블을 사용해서 내부 데이터 저장"
   ]
  },
  {
   "cell_type": "markdown",
   "id": "6f296ef8",
   "metadata": {},
   "source": [
    "### .add(x)\n",
    "- 세트에 x를 추가"
   ]
  },
  {
   "cell_type": "code",
   "execution_count": 18,
   "id": "b9b1537d",
   "metadata": {},
   "outputs": [
    {
     "name": "stdout",
     "output_type": "stream",
     "text": [
      "{'a', 1, 2, 3, 'd', 'b', 'c'}\n",
      "{'a', 1, 2, 3, 4, 'd', 'b', 'c'}\n"
     ]
    }
   ],
   "source": [
    "# add\n",
    "my_set = {'a', 'b', 'c', 1, 2, 3}\n",
    "my_set.add('d')\n",
    "print(my_set)\n",
    "\n",
    "my_set.add(4)\n",
    "print(my_set)"
   ]
  },
  {
   "cell_type": "markdown",
   "id": "fa6c74be",
   "metadata": {},
   "source": [
    "### .update(iterable)\n",
    "- 세트에 다른 iterable 요소를 추가"
   ]
  },
  {
   "cell_type": "code",
   "execution_count": 20,
   "id": "9e627d28",
   "metadata": {},
   "outputs": [
    {
     "name": "stdout",
     "output_type": "stream",
     "text": [
      "{'a', 1, 2, 3, 4, 5, 'b', 'c'}\n"
     ]
    }
   ],
   "source": [
    "# update\n",
    "my_set = {'a', 'b', 'c', 1, 2, 3}\n",
    "my_set.update([1, 4, 5]) # 중복은 추가 안됨\n",
    "print(my_set)  # {'c', 2, 3, 1, 'b', 4, 5, 'a'}"
   ]
  },
  {
   "cell_type": "markdown",
   "id": "13ae6073",
   "metadata": {},
   "source": [
    "### .clear()\n",
    "- 세트의 모든 항목을 제거"
   ]
  },
  {
   "cell_type": "code",
   "execution_count": 21,
   "id": "41798c2e",
   "metadata": {},
   "outputs": [
    {
     "name": "stdout",
     "output_type": "stream",
     "text": [
      "set()\n"
     ]
    }
   ],
   "source": [
    "# clear\n",
    "my_set = {'a', 'b', 'c', 1, 2, 3}\n",
    "my_set.clear()\n",
    "print(my_set)  # set()"
   ]
  },
  {
   "cell_type": "markdown",
   "id": "19982161",
   "metadata": {},
   "source": [
    "### .remove(x)\n",
    "- 세트에서 항목 x를 제거, 항목 x가 없을 경우 keyError"
   ]
  },
  {
   "cell_type": "code",
   "execution_count": 24,
   "id": "51e03b4c",
   "metadata": {},
   "outputs": [
    {
     "name": "stdout",
     "output_type": "stream",
     "text": [
      "{'a', 1, 3, 'b', 'c'}\n"
     ]
    }
   ],
   "source": [
    "# remove\n",
    "my_set = {'a', 'b', 'c', 1, 2, 3}\n",
    "my_set.remove(2)\n",
    "print(my_set)\n",
    "# my_set.remove(10)  # KeyError: 10"
   ]
  },
  {
   "cell_type": "markdown",
   "id": "f16650c2",
   "metadata": {},
   "source": [
    "### .pop()\n",
    "- 세트에서 임의의 요소를 제거하고 반환(랜덤은 아님)"
   ]
  },
  {
   "cell_type": "code",
   "execution_count": 35,
   "id": "35f6a64b",
   "metadata": {},
   "outputs": [
    {
     "name": "stdout",
     "output_type": "stream",
     "text": [
      "a\n",
      "{1, 2, 3, 'b', 'c'}\n"
     ]
    }
   ],
   "source": [
    "# pop\n",
    "my_set = {'a', 'b', 'c', 1, 2, 3}\n",
    "element = my_set.pop()\n",
    "print(element)\n",
    "print(my_set)"
   ]
  },
  {
   "cell_type": "markdown",
   "id": "90c13f3e",
   "metadata": {},
   "source": [
    "### .discard(x)\n",
    "- 세트 s에서 항목 x를 제거. remove와 달리 에러가 없음"
   ]
  },
  {
   "cell_type": "code",
   "execution_count": 37,
   "id": "b6af5499",
   "metadata": {},
   "outputs": [
    {
     "name": "stdout",
     "output_type": "stream",
     "text": [
      "{'a', 1, 3, 'b', 'c'}\n"
     ]
    }
   ],
   "source": [
    "# discard\n",
    "my_set = {'a', 'b', 'c', 1, 2, 3}\n",
    "my_set.discard(2)\n",
    "print(my_set)\n",
    "my_set.discard(10)  # 에러 안남"
   ]
  },
  {
   "cell_type": "markdown",
   "id": "6f55fde2",
   "metadata": {},
   "source": [
    "### 세트의 집합 메서드"
   ]
  },
  {
   "cell_type": "code",
   "execution_count": 38,
   "id": "8e6b3509",
   "metadata": {},
   "outputs": [
    {
     "name": "stdout",
     "output_type": "stream",
     "text": [
      "{0, 2, 4}\n",
      "{1, 3}\n",
      "False\n",
      "True\n",
      "False\n",
      "{0, 1, 2, 3, 4, 5, 7, 9}\n"
     ]
    }
   ],
   "source": [
    "# 집합 메서드\n",
    "set1 = {0, 1, 2, 3, 4}\n",
    "set2 = {1, 3, 5, 7, 9}\n",
    "set3 = {0, 1}\n",
    "\n",
    "print(set1.difference(set2))  # {0, 2, 4}\n",
    "print(set1.intersection(set2))  # {1, 3}\n",
    "print(set1.issubset(set2))  # False\n",
    "print(set3.issubset(set1))  # True\n",
    "print(set1.issuperset(set2))  # False\n",
    "print(set1.union(set2))  # {0, 1, 2, 3, 4, 5, 7, 9}"
   ]
  },
  {
   "cell_type": "markdown",
   "id": "4e19589f",
   "metadata": {},
   "source": [
    "## 참고"
   ]
  },
  {
   "cell_type": "markdown",
   "id": "a9a90785",
   "metadata": {},
   "source": [
    "### 해시 테이블(hash table)\n",
    "- 해시 테이블은 키와 값을 짝지어 저장하는 자료구조\n",
    "\n",
    "### 해시 테이블 원리\n",
    "1. 키를 해시 함수를 통해 해시 값으로 변환\n",
    "2. 변환된 해시 값을 인덱스로 삼아 데이터를 저장하거나 찾음\n",
    "3. 이로 인해 검색, 삽입, 삭제를 매우 빠르게 수행\n",
    "\n",
    "### 해시(Hash)\n",
    "- 임의의 크기를 가진 데이터를 고정된 크기의 고유한 값으로 변환하는 것\n",
    "- 데이터 -> 과정(해시 함수) -> 고유한 값\n",
    "\n",
    "### 해시 함수(Hash function)\n",
    "- 임의 길이 데이터를 입력 받아 고정 길이(정수)로 변환해 주는 함수. 이 '정수'가 바로 해시 값\n",
    "- 주로 해시 테이블을 구현할 때, 매우 빠른 검색 및 데이터 저장 위치 결정을 위해 활용\n",
    "\n",
    "### set의 요소 & dict의 키와 해시 테이블 관계\n",
    "- set\n",
    "  - 각 요소를 해시 함수로 변환해 나온 해시 값에 맞춰 해시 테이블 내부 버킷(bucket)에 위치시킴\n",
    "  - 그래서 '순서'라기보다 '버킷 위치(인덱스)'가 요소의 위치를 결정\n",
    "  - 따라서 set는 순서를 보장하지 않음\n",
    "- dict\n",
    "  - 키 -> 해시 함수 -> 해시 값 -> 해시 테이블에 저장\n",
    "  - 단 set와 달리 '삽입 순서'는 유지한다는 것이 언어 사양에 따라 보장됨 (python 3.7 이상)\n",
    "    - 즉, 키를 추가한 순서대로 반복문 순회할 때 나오게 됨\n",
    "    - 사용자에게 보여지는 키 순서는 삽입 순서가 유지되도록 설계된 것\n",
    "- 여전히 set와 dict는 순서가 없다(비시퀀스)"
   ]
  },
  {
   "cell_type": "code",
   "execution_count": 41,
   "id": "cf2d6580",
   "metadata": {},
   "outputs": [
    {
     "name": "stdout",
     "output_type": "stream",
     "text": [
      "1\n",
      "2\n",
      "3\n",
      "100\n",
      "4\n",
      "39\n",
      "9\n",
      "10\n",
      "52\n",
      "87\n",
      "set()\n"
     ]
    }
   ],
   "source": [
    "# 정수\n",
    "my_set = {3, 2, 1, 9, 100, 4, 87, 39, 10, 52}\n",
    "print(my_set.pop())\n",
    "print(my_set.pop())\n",
    "print(my_set.pop())\n",
    "print(my_set.pop())\n",
    "print(my_set.pop())\n",
    "print(my_set.pop())\n",
    "print(my_set.pop())\n",
    "print(my_set.pop())\n",
    "print(my_set.pop())\n",
    "print(my_set.pop())\n",
    "print(my_set)\n"
   ]
  },
  {
   "cell_type": "code",
   "execution_count": 50,
   "id": "92b20523",
   "metadata": {},
   "outputs": [
    {
     "name": "stdout",
     "output_type": "stream",
     "text": [
      "i\n",
      "d\n",
      "b\n",
      "c\n",
      "g\n"
     ]
    }
   ],
   "source": [
    "# 문자열\n",
    "my_str_set = {'a', 'b', 'c', 'd', 'e', 'f', 'g', 'h', 'i', 'j'}\n",
    "print(my_str_set.pop())\n",
    "print(my_str_set.pop())\n",
    "print(my_str_set.pop())\n",
    "print(my_str_set.pop())\n",
    "print(my_str_set.pop())\n",
    "\n"
   ]
  },
  {
   "cell_type": "markdown",
   "id": "08d6061c",
   "metadata": {},
   "source": [
    "### 파이썬에서의 해시 함수\n",
    "- 정수 \n",
    "  - 같은 정수는 항상 같은 해시 값을 가짐\n",
    "- 문자열\n",
    "  - 문자열 해시 시, 파이썬 인터프리터 시작 때 설정되는 난수 시드(seed)가 달라질 수 있음\n",
    "  - 보안상 이유로 해시 난수화 도입\n",
    "  - 각 실행마다 달라질 수 있어 'a'의 해시 값도 매번 바뀔 수 있음"
   ]
  },
  {
   "cell_type": "code",
   "execution_count": 51,
   "id": "5bf5b3fb",
   "metadata": {},
   "outputs": [
    {
     "name": "stdout",
     "output_type": "stream",
     "text": [
      "1\n",
      "1\n",
      "-6150369452645154288\n",
      "-6150369452645154288\n"
     ]
    }
   ],
   "source": [
    "print(hash(1))\n",
    "print(hash(1))\n",
    "print(hash('a'))\n",
    "print(hash('a'))"
   ]
  },
  {
   "cell_type": "markdown",
   "id": "95e70af2",
   "metadata": {},
   "source": [
    "### hashable\n",
    "- hash() 함수에 넣어 해시 값을 구할 수 있는 객체를 의미\n",
    "- 대부분의 불변 타입은 해시 가능 (가변 -> 해시 함수 -> 값은 해시 함수가 계속 다른 값 내서 안됨)\n",
    "  - 예) int, float, str, tuple(단, 내부에 불변만 있을 경우)\n",
    "- 가변형 객체(예:list, dict, set)는 기본적으로 해시 불가능\n",
    "  - 이유 : 값이 변하면 해시 값도 달라질 수 있어 해시 테이블 무결성이 깨짐"
   ]
  },
  {
   "cell_type": "code",
   "execution_count": null,
   "id": "18026a8f",
   "metadata": {},
   "outputs": [
    {
     "name": "stdout",
     "output_type": "stream",
     "text": [
      "1\n",
      "1\n",
      "8430926977270203990\n",
      "529344067295497451\n"
     ]
    }
   ],
   "source": [
    "print(hash(1))\n",
    "print(hash(1.0))\n",
    "print(hash('1'))\n",
    "print(hash((1, 2, 3)))\n",
    "\n",
    "# TypeError: unhashable type: 'list'\n",
    "print(hash((1, 2, [3, 4])))\n",
    "# TypeError: unhashable type: 'list'\n",
    "print(hash([1, 2, 3]))\n",
    "# TypeError: unhashable type: 'list'\n",
    "my_set = {[1, 2, 3], 1, 2, 3, 4, 5}\n",
    "# TypeError: unhashable type: 'set'\n",
    "my_dict = {{3, 2}: 'a'}"
   ]
  },
  {
   "cell_type": "markdown",
   "id": "6f50e9a8",
   "metadata": {},
   "source": [
    "### hashable과 불변성 간의 관계\n",
    "- 해시 테이블에는 hashable(해시가 가능한 객체)만 저장 가능\n",
    "- hash가 가능하다 != 불변이다\n",
    "  - 일반적으로 내장 자료형 기준에서는 불변이어야 해시 가능"
   ]
  },
  {
   "cell_type": "markdown",
   "id": "2f776979",
   "metadata": {},
   "source": [
    "## 파이썬 문법 규격\n",
    "\n",
    "### EBNF\n",
    "- Extended Backus-Naur Form\n",
    "- [] : 선택적 요소\n",
    "- {} : 0번 이상 반복\n",
    "- () : 그룹화"
   ]
  },
  {
   "cell_type": "code",
   "execution_count": null,
   "id": "dbe3aea2",
   "metadata": {},
   "outputs": [],
   "source": []
  }
 ],
 "metadata": {
  "kernelspec": {
   "display_name": "Python 3",
   "language": "python",
   "name": "python3"
  },
  "language_info": {
   "codemirror_mode": {
    "name": "ipython",
    "version": 3
   },
   "file_extension": ".py",
   "mimetype": "text/x-python",
   "name": "python",
   "nbconvert_exporter": "python",
   "pygments_lexer": "ipython3",
   "version": "3.11.9"
  }
 },
 "nbformat": 4,
 "nbformat_minor": 5
}
